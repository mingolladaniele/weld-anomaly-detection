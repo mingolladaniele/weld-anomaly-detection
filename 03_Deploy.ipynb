{
 "cells": [
  {
   "cell_type": "code",
   "execution_count": 1,
   "id": "12f58e00",
   "metadata": {
    "ExecuteTime": {
     "end_time": "2022-05-31T20:30:01.878382Z",
     "start_time": "2022-05-31T20:29:59.387293Z"
    }
   },
   "outputs": [
    {
     "name": "stderr",
     "output_type": "stream",
     "text": [
      "C:\\Users\\danie\\AppData\\Local\\pypoetry\\Cache\\virtualenvs\\industry-lab-JWw7CphW-py3.9\\lib\\site-packages\\tslearn\\bases\\bases.py:15: UserWarning: h5py not installed, hdf5 features will not be supported.\n",
      "Install h5py to use hdf5 features: http://docs.h5py.org/\n",
      "  warn(h5py_msg)\n"
     ]
    }
   ],
   "source": [
    "import warnings\n",
    "import pandas as pd\n",
    "import numpy as np\n",
    "import matplotlib.pyplot as plt\n",
    "import seaborn as sns\n",
    "from sklearn.ensemble import IsolationForest\n",
    "from scipy.cluster.hierarchy import fcluster\n",
    "import itertools\n",
    "import scipy.stats as st\n",
    "from tqdm import tqdm\n",
    "from tslearn.metrics import dtw\n",
    "from tslearn.clustering import TimeSeriesKMeans\n",
    "from sklearn.cluster import DBSCAN\n",
    "from sklearn.preprocessing import StandardScaler\n",
    "import random\n",
    "import pickle\n",
    "\n",
    "# rimuovo alcuni warn che disturbano l'output dei risultati\n",
    "\n",
    "\n",
    "def warn(*args, **kwargs):\n",
    "    pass\n",
    "\n",
    "\n",
    "warnings.warn = warn"
   ]
  },
  {
   "cell_type": "markdown",
   "id": "5b9cb384",
   "metadata": {},
   "source": [
    " # DEFINIZIONE FUNZIONI"
   ]
  },
  {
   "cell_type": "code",
   "execution_count": 2,
   "id": "35b5be9f",
   "metadata": {
    "ExecuteTime": {
     "end_time": "2022-05-31T20:30:01.909505Z",
     "start_time": "2022-05-31T20:30:01.880358Z"
    }
   },
   "outputs": [],
   "source": [
    "# DBSCAN\n",
    "def dbscan_for_daily(spotname, ds, eps, min_samples):\n",
    "    # utilizzo scaler allenato nella fase 02_Training, uno per spotname\n",
    "    X = dict_scaler_dbscan_daily[spotname].transform(\n",
    "        ds.loc[ds.spotName == spotname, 0:613])\n",
    "    # train e test parametri\n",
    "    predictions = DBSCAN(eps=eps, min_samples=min_samples).fit_predict(X)\n",
    "    # assegno il risultato dell'algortimo al database\n",
    "    ds.loc[ds.spotName == spotname, 'dbscan_daily'] = predictions\n",
    "\n",
    "# dato un dataframe e una colonna e una feature indicante l'indice del cluster di appartenenza della curva,\n",
    "# rappresenta ogni cluster e i relativi spotname contenuti al suo interno\n",
    "\n",
    "\n",
    "def plot_cluster(dataframe, cluster_column='k_means_dtw'):\n",
    "    # ottengo lista indici dei cluster\n",
    "    list_cluster = dataframe[cluster_column].unique()\n",
    "\n",
    "    # genero plot pari al numero di cluster\n",
    "    fig, axs = plt.subplots(1, len(list_cluster),\n",
    "                            figsize=(15, 7), sharey=True)\n",
    "    for i in list_cluster:\n",
    "        axs[i].set(xlabel=f'CLUSTER {i}')\n",
    "\n",
    "    fig.suptitle(\n",
    "        f'{cluster_column} --- Cluster degli andamenti giornalieri di tutti gli spotname', fontsize=15)\n",
    "\n",
    "    # in base all'indice del cluster, plot nello specifico grafico\n",
    "    for name_spot, row in dataframe.iterrows():\n",
    "        axs[row[cluster_column]].plot(dataframe.loc[name_spot]\n",
    "                                      ['CurrentCurve'], label=name_spot)\n",
    "        # axs[row[cluster_column]].legend()\n",
    "    fig.show()\n",
    "\n",
    "\n",
    "def plot_CI_TS(spotname, dataframe_CI, df_CI_anomalies, axs):\n",
    "    axs.set_title(f\"C.I SU MEDIA CURVA GLOBALE\")\n",
    "    axs.set(xlabel='Millisecondi')\n",
    "    axs.plot(dataframe_CI['mean'], color='blue',\n",
    "             alpha=0.8, label=f'Media globale spotname n: {spotname}')\n",
    "    axs.fill_between(\n",
    "        dataframe_CI.index, dataframe_CI['lw_bound'], dataframe_CI['up_bound'], alpha=1, color='green', label='Intervallo di confidenza')\n",
    "    axs.scatter(df_CI_anomalies['anom_index'], df_CI_anomalies['anom_values'],\n",
    "                s=0.5, color='red', label=f'Anomalia --- Totale: {df_CI_anomalies.shape[0]}')\n",
    "    axs.legend()\n",
    "    plt.show()\n",
    "\n",
    "\n",
    "def test_predictions(TS_daily, spotname, index_cluster, cut_off_thres, plot=False):\n",
    "    model_IF = list_IF_models[index_cluster]\n",
    "    predictions = model_IF.predict(np.array(TS_daily).reshape(-1, 1))\n",
    "\n",
    "    dataset_test = pd.DataFrame(\n",
    "        {'data': TS_daily, 'is_anomaly': predictions},\n",
    "        index=range(0, len(TS_daily))\n",
    "    )\n",
    "    # non considero i primi cut_off_thres punti come anomalie -> is_anomaly ha indice pari a 1\n",
    "    dataset_test.iloc[:cut_off_thres, 1] = 1\n",
    "    anomaly_points = dataset_test[dataset_test.is_anomaly == -1]\n",
    "\n",
    "    if plot:\n",
    "        fig, axs = plt.subplots(1, 2,\n",
    "                                figsize=(15, 7), sharex=True, sharey=True)\n",
    "        fig.suptitle(\n",
    "            f\"SPOTNAME {spotname} --- MISURAZIONE GIORNALIERA\", fontsize=15)\n",
    "        axs[0].set_title(\n",
    "            f\"SPOTNAME CLUSTER {index_cluster} --- IS. FOREST\")\n",
    "        axs[0].set(xlabel='Millisecondi', ylabel='CurrentCurve (AMPERE)')\n",
    "        axs[0].plot(anomaly_points.index,\n",
    "                    anomaly_points['data'], 'ro', zorder=99, alpha=0.8, markersize=2.5, label=f'Anomalia -- TOTALE: {anomaly_points.shape[0]}')\n",
    "        axs[0].plot(dataset_test['data'], 'g', linewidth=3,\n",
    "                    zorder=2, label=f'Misurazione giornaliera spotname {spotname}')\n",
    "        axs[0].legend()\n",
    "    # lista tuple indice - valore del punto anomalo\n",
    "    l_CI_anomalies = []\n",
    "    for index, row in dict_CI[spotname].iterrows():\n",
    "        if TS_daily[index] > row['up_bound'] or TS_daily[index] < row['lw_bound']:\n",
    "            l_CI_anomalies.append((index, TS_daily[index]))\n",
    "\n",
    "    df_CI_anomalies = pd.DataFrame(l_CI_anomalies, columns=[\n",
    "        'anom_index', 'anom_values'])\n",
    "    # non considero anomali i primi cut_off_thres punti\n",
    "    df_CI_anomalies = df_CI_anomalies.iloc[cut_off_thres:]\n",
    "\n",
    "    if plot:\n",
    "        plot_CI_TS(spotname, dict_CI[spotname], df_CI_anomalies, axs[1])\n",
    "    # ritorno numero anomalie trovate da CI e da IF\n",
    "    return df_CI_anomalies.shape[0], anomaly_points.shape[0]"
   ]
  },
  {
   "cell_type": "markdown",
   "id": "b54d0463",
   "metadata": {},
   "source": [
    "# CARICAMENTO DATI UTILI PER SVOLGERE LE PREVISIONI"
   ]
  },
  {
   "cell_type": "code",
   "execution_count": 3,
   "id": "081c14b9",
   "metadata": {
    "ExecuteTime": {
     "end_time": "2022-05-31T20:30:02.050127Z",
     "start_time": "2022-05-31T20:30:01.911019Z"
    }
   },
   "outputs": [],
   "source": [
    "# apertura file\n",
    "test_DS = pd.read_pickle('../data/inference/unseen_data.pkl')\n",
    "test_DS.drop(columns=['VoltageCurve'], inplace=True)\n",
    "\n",
    "with open('../models/CI_global.pickle', 'rb') as f:\n",
    "    dict_CI = pickle.load(f)\n",
    "with open('../models/IF_models_cluster.pickle', 'rb') as f:\n",
    "    list_IF_models = pickle.load(f)\n",
    "with open('../models/dtw_cluster.pickle', 'rb') as f:\n",
    "    dtw_cluster = pickle.load(f)\n",
    "\n",
    "# carico dizionario contenente uno scaler per ogni spotname\n",
    "with open('../models/dbscan_daily_scaler.pickle', 'rb') as f:\n",
    "    dict_scaler_dbscan_daily = pickle.load(f)"
   ]
  },
  {
   "cell_type": "code",
   "execution_count": 4,
   "id": "c89d7041",
   "metadata": {
    "ExecuteTime": {
     "end_time": "2022-05-31T20:30:02.924872Z",
     "start_time": "2022-05-31T20:30:02.054177Z"
    }
   },
   "outputs": [],
   "source": [
    "exploded_col_lists = test_DS['CurrentCurve'].apply(pd.Series)\n",
    "expanded_TS = pd.concat([test_DS, exploded_col_lists],\n",
    "                        axis=1)\n",
    "expanded_TS.drop(columns='CurrentCurve', inplace=True)\n",
    "# imputiamo i nan sostituendoli con la media delle misurazioni\n",
    "expanded_TS.loc[:, 0:] = expanded_TS.loc[:, 0:].apply(\n",
    "    lambda row: row.fillna(row.mean()), axis=1)"
   ]
  },
  {
   "cell_type": "code",
   "execution_count": 5,
   "id": "f65a866b",
   "metadata": {
    "ExecuteTime": {
     "end_time": "2022-05-31T20:30:03.348219Z",
     "start_time": "2022-05-31T20:30:02.926871Z"
    }
   },
   "outputs": [
    {
     "name": "stderr",
     "output_type": "stream",
     "text": [
      "100%|██████████████████████████████████████████████████████████████████████| 77/77 [00:00<00:00, 190.63it/s]\n"
     ]
    }
   ],
   "source": [
    "# settiamo con un valore costante la colonna che conterrà la previsione del dbscan\n",
    "expanded_TS['dbscan_daily'] = 2\n",
    "# svolgiamo le previsioni per ogni CC giornaliera di ogni spotname\n",
    "for spotname in tqdm(expanded_TS.spotName.unique(), total=len(expanded_TS.spotName.unique())):\n",
    "    dbscan_for_daily(spotname, expanded_TS, 30, 20)\n",
    "\n",
    "# assegno previsioni DBSCAN al dataset che conterrà tutte le previsioni di tutti i modelli\n",
    "test_DS['dbscan_daily'] = expanded_TS['dbscan_daily']"
   ]
  },
  {
   "cell_type": "code",
   "execution_count": 6,
   "id": "a26deb9c",
   "metadata": {
    "ExecuteTime": {
     "end_time": "2022-05-31T20:30:03.364237Z",
     "start_time": "2022-05-31T20:30:03.350009Z"
    }
   },
   "outputs": [],
   "source": [
    "expanded_TS.set_index('spotName', inplace=True)"
   ]
  },
  {
   "cell_type": "markdown",
   "id": "9ff4de1d",
   "metadata": {},
   "source": [
    "# Applicazione dei modelli su una singola misurazione"
   ]
  },
  {
   "cell_type": "code",
   "execution_count": 7,
   "id": "a1177382",
   "metadata": {
    "ExecuteTime": {
     "end_time": "2022-05-31T20:30:03.379645Z",
     "start_time": "2022-05-31T20:30:03.366274Z"
    }
   },
   "outputs": [],
   "source": [
    "# minimo numero di punti necesarri per classificare una curva come anomala o meno\n",
    "ANOM_THRESHOLD_CI = 150\n",
    "ANOM_THRESHOLD_IF = 50\n",
    "\n",
    "# se True viene dato in output il grafico su cui sono segnati i punti anomali della curva\n",
    "plot = True\n",
    "\n",
    "# numero di punti anomali INIZIALI da non considerare\n",
    "cut_off_thres = 10"
   ]
  },
  {
   "cell_type": "code",
   "execution_count": 8,
   "id": "8b1b459c",
   "metadata": {
    "ExecuteTime": {
     "end_time": "2022-05-31T20:30:05.504032Z",
     "start_time": "2022-05-31T20:30:03.380644Z"
    },
    "scrolled": false
   },
   "outputs": [
    {
     "data": {
      "image/png": "[encoded data removed]",
      "text/plain": [
       "<Figure size 1080x504 with 2 Axes>"
      ]
     },
     "metadata": {
      "needs_background": "light"
     },
     "output_type": "display_data"
    }
   ],
   "source": [
    "# lettura JSON\n",
    "\n",
    "with open(\"../data/original/json_test.json\", 'r') as f:\n",
    "    data = json.load(f)\n",
    "\n",
    "# estraggo identificatore spotname da JSON\n",
    "n_spotname = data['Message']['WeldLog']['spotName']\n",
    "\n",
    "# estraggo CC da JSON\n",
    "CC = data['Message']['WeldLog']['CurrentCurve']\n",
    "\n",
    "############ ISOLATION FOREST AND CONFIDENCE INTERVAL ############\n",
    "\n",
    "# calcoliamo indice del cluster in modo da utilizzare il rispettivo modello k-means\n",
    "cluster_index = dtw_cluster.predict(np.array(CC).reshape(1, -1))[0]\n",
    "# visualizzazione grafica delle anomalie in base al modello utilizzato (IF e CI)\n",
    "n_anom_IF, n_anom_CI = test_predictions(\n",
    "    CC, n_spotname, cluster_index, cut_off_thres, plot)\n",
    "\n",
    "############ DBSCAN ############\n",
    "\n",
    "CC = np.pad(CC, (0, 613 - (len(CC)) + 1), mode='mean')\n",
    "dataset_test = expanded_TS.loc[n_spotname, 0:613]\n",
    "# inserisco cc da testare come ultima riga del dataset contenente le CC di quello spotname\n",
    "dataset_test = dataset_test.append(pd.Series(CC), ignore_index=True)\n",
    "X = dict_scaler_dbscan_daily[n_spotname].transform(dataset_test)\n",
    "# considero solo la previsione relativa all'ultima riga, ovvero la CC che abbiamo inserito in coda al DS\n",
    "pred_DBSCAN = DBSCAN(eps=30, min_samples=20).fit_predict(X)[-1]"
   ]
  },
  {
   "cell_type": "code",
   "execution_count": 9,
   "id": "89a1a047",
   "metadata": {
    "ExecuteTime": {
     "end_time": "2022-05-31T20:30:05.520037Z",
     "start_time": "2022-05-31T20:30:05.507073Z"
    }
   },
   "outputs": [
    {
     "name": "stdout",
     "output_type": "stream",
     "text": [
      "2 dei nostri modelli concordano nel dire che la curvatura data potrebbe presentare delle anomalie!\n"
     ]
    }
   ],
   "source": [
    "# COSA DICONO I NOSTRI MODELLI?\n",
    "n_mod_agree = 0\n",
    "if n_anom_IF >= ANOM_THRESHOLD_IF:\n",
    "    n_mod_agree += 1\n",
    "if n_anom_CI >= ANOM_THRESHOLD_CI:\n",
    "    n_mod_agree += 1\n",
    "if pred_DBSCAN == -1:\n",
    "    n_mod_agree += 1\n",
    "print(f\"{n_mod_agree} dei nostri modelli concordano nel dire che la curvatura data potrebbe presentare delle anomalie!\")"
   ]
  }
 ],
 "metadata": {
  "kernelspec": {
   "display_name": "Python 3 (ipykernel)",
   "language": "python",
   "name": "python3"
  },
  "language_info": {
   "codemirror_mode": {
    "name": "ipython",
    "version": 3
   },
   "file_extension": ".py",
   "mimetype": "text/x-python",
   "name": "python",
   "nbconvert_exporter": "python",
   "pygments_lexer": "ipython3",
   "version": "3.9.6"
  }
 },
 "nbformat": 4,
 "nbformat_minor": 5
}
